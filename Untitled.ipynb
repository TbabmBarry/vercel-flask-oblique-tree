{
 "cells": [
  {
   "cell_type": "code",
   "execution_count": 8,
   "id": "4fc2a3bd",
   "metadata": {},
   "outputs": [],
   "source": [
    "from sklearn.manifold import TSNE\n",
    "from numpy import reshape\n",
    "import pandas as pd\n",
    "import json"
   ]
  },
  {
   "cell_type": "code",
   "execution_count": 5,
   "id": "c1efbf28",
   "metadata": {},
   "outputs": [],
   "source": [
    "train_X = pd.read_csv(\"static/train_x.csv\", header=None)\n",
    "train_y = pd.read_csv(\"static/train_y.csv\", header=None)"
   ]
  },
  {
   "cell_type": "code",
   "execution_count": 6,
   "id": "6148443b",
   "metadata": {},
   "outputs": [],
   "source": [
    "result = []"
   ]
  },
  {
   "cell_type": "code",
   "execution_count": 7,
   "id": "01fb46f8",
   "metadata": {},
   "outputs": [
    {
     "name": "stderr",
     "output_type": "stream",
     "text": [
      "/Users/tbabmbarry/miniforge3/envs/oblique/lib/python3.10/site-packages/sklearn/manifold/_t_sne.py:780: FutureWarning: The default initialization in TSNE will change from 'random' to 'pca' in 1.2.\n",
      "  warnings.warn(\n"
     ]
    }
   ],
   "source": [
    "row_num = train_X.shape[0]\n",
    "tsne = TSNE(perplexity=20, learning_rate=100, n_components=2, random_state=123)\n",
    "embeded_X = tsne.fit_transform(train_X)\n",
    "xyembed = embeded_X.reshape((row_num, 2))\n",
    "label_arr = train_y.iloc[:,0].tolist()\n",
    "for i in range(len(label_arr)):\n",
    "    result.append({\n",
    "        'id': i,\n",
    "        'label': int(label_arr[i]),\n",
    "        'position': xyembed[i].tolist()\n",
    "    })"
   ]
  },
  {
   "cell_type": "code",
   "execution_count": 10,
   "id": "58bdae08",
   "metadata": {},
   "outputs": [],
   "source": [
    "def obj_dict(obj):\n",
    "    return obj.__dict__\n",
    "\n",
    "json_string = json.dumps(result, default=obj_dict)"
   ]
  },
  {
   "cell_type": "code",
   "execution_count": 12,
   "id": "75f6f18e",
   "metadata": {},
   "outputs": [],
   "source": [
    "with open('projection.json', 'w') as out_file:\n",
    "     json.dump(json_string, out_file, sort_keys = True, indent = 4,\n",
    "               ensure_ascii = False)"
   ]
  },
  {
   "cell_type": "code",
   "execution_count": null,
   "id": "d36dbd45",
   "metadata": {},
   "outputs": [],
   "source": []
  }
 ],
 "metadata": {
  "kernelspec": {
   "display_name": "Python 3 (ipykernel)",
   "language": "python",
   "name": "python3"
  },
  "language_info": {
   "codemirror_mode": {
    "name": "ipython",
    "version": 3
   },
   "file_extension": ".py",
   "mimetype": "text/x-python",
   "name": "python",
   "nbconvert_exporter": "python",
   "pygments_lexer": "ipython3",
   "version": "3.10.5"
  }
 },
 "nbformat": 4,
 "nbformat_minor": 5
}
