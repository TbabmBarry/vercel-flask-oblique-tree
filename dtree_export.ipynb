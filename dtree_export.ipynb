{
 "cells": [
  {
   "cell_type": "code",
   "execution_count": 3,
   "metadata": {},
   "outputs": [],
   "source": [
    "import pandas as pd \n",
    "import numpy as np \n",
    "\n",
    "from sklearn.datasets import load_iris, load_breast_cancer\n",
    "from sklearn.model_selection import train_test_split\n",
    "from sklearn.preprocessing import StandardScaler\n",
    "from sklearn.metrics import accuracy_score\n",
    "from sklearn.tree import DecisionTreeClassifier, export_text\n",
    "from sklearn import tree\n",
    "from matplotlib import pyplot as plt\n",
    "plt.rcParams['figure.figsize'] = [12, 8]\n",
    "plt.rcParams['figure.dpi'] = 100"
   ]
  },
  {
   "cell_type": "code",
   "execution_count": 4,
   "metadata": {},
   "outputs": [],
   "source": [
    "random_state = 2\n",
    "\n",
    "def dataPreprocessing():\n",
    "    # Loading dataset\n",
    "    penguins_data = pd.read_csv('static/penguins.csv')\n",
    "    # Preprocess\n",
    "    penguins_data.dropna(inplace=True)\n",
    "    penguins_data.drop(penguins_data.index[penguins_data['sex'] == '.'].tolist(),inplace=True)\n",
    "    penguins_data['species']=penguins_data['species'].map({'Adelie':0,'Gentoo':1,'Chinstrap':2})\n",
    "    penguins_data.reset_index(inplace=True)\n",
    "    penguins_data.drop('index', axis=1, inplace=True)\n",
    "    df_male = pd.get_dummies(data=penguins_data['sex'], drop_first=True)\n",
    "    penguins_data = pd.concat([penguins_data,df_male], axis=1)\n",
    "    df_island = pd.get_dummies(data=penguins_data['island'])\n",
    "    penguins_data = pd.concat([penguins_data,df_island], axis=1)\n",
    "    pgn = penguins_data.drop(['island','sex'], axis=1)\n",
    "    \n",
    "    X = pgn.drop('species', axis=1)\n",
    "    y = pgn['species']\n",
    "\n",
    "    # Normalization\n",
    "    scaler = StandardScaler()\n",
    "    X = scaler.fit_transform(X)\n",
    "    X_train, X_test, y_train, y_test = train_test_split(X, y, test_size=.2, random_state=101)\n",
    "    return X_train, X_test, y_train, y_test\n",
    "\n",
    "# X_train, X_test, y_train, y_test = train_test_split(*load_iris(return_X_y=True), test_size=.7, random_state=random_state)\n",
    "X_train, X_test, y_train, y_test = dataPreprocessing()"
   ]
  },
  {
   "cell_type": "code",
   "execution_count": 5,
   "metadata": {},
   "outputs": [
    {
     "name": "stdout",
     "output_type": "stream",
     "text": [
      "Penguins Accuracy: 0.9552238805970149\n",
      "Tree depth: 5\n",
      "Decision tree:\n",
      "\n"
     ]
    },
    {
     "data": {
      "image/png": "[encoded data removed]",
      "text/plain": [
       "<Figure size 432x288 with 1 Axes>"
      ]
     },
     "metadata": {
      "needs_background": "light"
     },
     "output_type": "display_data"
    }
   ],
   "source": [
    "clf = DecisionTreeClassifier()\n",
    "clf.fit(X_train, y_train)\n",
    "\n",
    "predictions = clf.predict(X_test)\n",
    "\n",
    "tree_depth = clf.get_depth()\n",
    "\n",
    "# print(\"Iris Accuracy:\",accuracy_score(y_test, predictions))\n",
    "print(\"Penguins Accuracy:\",accuracy_score(y_test, predictions))\n",
    "print(\"Tree depth:\", tree_depth)\n",
    "print(\"Decision tree:\\n\")\n",
    "tree.plot_tree(clf)\n",
    "plt.show()"
   ]
  }
 ],
 "metadata": {
  "kernelspec": {
   "display_name": "Python 3.10.5 ('oblique')",
   "language": "python",
   "name": "python3"
  },
  "language_info": {
   "codemirror_mode": {
    "name": "ipython",
    "version": 3
   },
   "file_extension": ".py",
   "mimetype": "text/x-python",
   "name": "python",
   "nbconvert_exporter": "python",
   "pygments_lexer": "ipython3",
   "version": "3.10.5"
  },
  "orig_nbformat": 4,
  "vscode": {
   "interpreter": {
    "hash": "7c6af389f53f326899cc60065f9d113078240cf131fab5545cef3f594be2d6a9"
   }
  }
 },
 "nbformat": 4,
 "nbformat_minor": 2
}
