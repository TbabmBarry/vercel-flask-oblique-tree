{
 "cells": [
  {
   "cell_type": "code",
   "execution_count": null,
   "id": "4fc2a3bd",
   "metadata": {},
   "outputs": [],
   "source": [
    "from sklearn.manifold import TSNE\n",
    "from numpy import reshape\n",
    "import pandas as pd\n",
    "import json"
   ]
  },
  {
   "cell_type": "code",
   "execution_count": null,
   "id": "c1efbf28",
   "metadata": {},
   "outputs": [],
   "source": [
    "iris_X = pd.read_csv(\"static/x_iris_scaled.csv\")\n",
    "iris_y = pd.read_csv(\"static/y_iris.csv\")\n",
    "wine_X = pd.read_csv(\"static/x_wine_scaled.csv\")\n",
    "wine_y = pd.read_csv(\"static/y_wine.csv\")\n",
    "penguins_X = pd.read_csv(\"static/x_penguins_scaled.csv\")\n",
    "penguins_y = pd.read_csv(\"static/y_penguins.csv\")"
   ]
  },
  {
   "cell_type": "code",
   "execution_count": null,
   "id": "6148443b",
   "metadata": {},
   "outputs": [],
   "source": [
    "def obj_dict(obj):\n",
    "    return obj.__dict__"
   ]
  },
  {
   "cell_type": "code",
   "execution_count": null,
   "id": "01fb46f8",
   "metadata": {},
   "outputs": [],
   "source": [
    "def get_projection(X, y):\n",
    "    result = []\n",
    "    row_num = X.shape[0]\n",
    "    tsne = TSNE(perplexity=20, learning_rate=100, n_components=2, random_state=123)\n",
    "    embeded_X = tsne.fit_transform(X)\n",
    "    xyembed = embeded_X.reshape((row_num, 2))\n",
    "    label_arr = y.iloc[:,0].tolist()\n",
    "    for i in range(len(label_arr)):\n",
    "        result.append({\n",
    "            'id': i,\n",
    "            'label': int(label_arr[i]),\n",
    "            'position': xyembed[i].tolist()\n",
    "        })\n",
    "    return json.dumps(result, default=obj_dict)"
   ]
  },
  {
   "cell_type": "code",
   "execution_count": null,
   "id": "58bdae08",
   "metadata": {},
   "outputs": [],
   "source": [
    "json_iris = get_projection(iris_X, iris_y)\n",
    "json_wine = get_projection(wine_X, wine_y)\n",
    "json_penguins = get_projection(penguins_X, penguins_y)"
   ]
  },
  {
   "cell_type": "code",
   "execution_count": null,
   "id": "75f6f18e",
   "metadata": {},
   "outputs": [],
   "source": [
    "with open('projection_iris.json', 'w') as out_file:\n",
    "     json.dump(json_iris, out_file, sort_keys = True, indent = 4,\n",
    "               ensure_ascii = False)\n",
    "\n",
    "with open('projection_wine.json', 'w') as out_file:\n",
    "     json.dump(json_wine, out_file, sort_keys = True, indent = 4,\n",
    "               ensure_ascii = False)\n",
    "\n",
    "with open('projection_penguins.json', 'w') as out_file:\n",
    "     json.dump(json_penguins, out_file, sort_keys = True, indent = 4,\n",
    "               ensure_ascii = False)"
   ]
  },
  {
   "cell_type": "code",
   "execution_count": null,
   "metadata": {},
   "outputs": [],
   "source": [
    "blobs_X = pd.read_csv(\"static/x_blobs_scaled.csv\")\n",
    "blobs_y = pd.read_csv(\"static/y_blobs.csv\")"
   ]
  },
  {
   "cell_type": "code",
   "execution_count": null,
   "id": "9c5f161a",
   "metadata": {},
   "outputs": [],
   "source": [
    "result = []\n",
    "row_num = blobs_X.shape[0]\n",
    "tsne = TSNE(perplexity=20, learning_rate=100, n_components=2, random_state=123)\n",
    "embeded_X = tsne.fit_transform(blobs_X)\n",
    "xyembed = embeded_X.reshape((row_num, 2))\n",
    "label_arr = blobs_y.iloc[:,0].tolist()\n",
    "for i in range(len(label_arr)):\n",
    "    result.append({\n",
    "        'id': i,\n",
    "        'label': int(label_arr[i]),\n",
    "        'position': xyembed[i].tolist()\n",
    "    })\n",
    "json_blobs = json.dumps(result, default=obj_dict)"
   ]
  },
  {
   "cell_type": "code",
   "execution_count": null,
   "id": "d36dbd45",
   "metadata": {},
   "outputs": [],
   "source": [
    "with open('projection_blobs.json', 'w') as out_file:\n",
    "     json.dump(json_blobs, out_file, sort_keys = True, indent = 4,\n",
    "               ensure_ascii = False)"
   ]
  }
 ],
 "metadata": {
  "kernelspec": {
   "display_name": "Python 3.10.5 ('oblique')",
   "language": "python",
   "name": "python3"
  },
  "language_info": {
   "codemirror_mode": {
    "name": "ipython",
    "version": 3
   },
   "file_extension": ".py",
   "mimetype": "text/x-python",
   "name": "python",
   "nbconvert_exporter": "python",
   "pygments_lexer": "ipython3",
   "version": "3.10.5"
  },
  "vscode": {
   "interpreter": {
    "hash": "7c6af389f53f326899cc60065f9d113078240cf131fab5545cef3f594be2d6a9"
   }
  }
 },
 "nbformat": 4,
 "nbformat_minor": 5
}
