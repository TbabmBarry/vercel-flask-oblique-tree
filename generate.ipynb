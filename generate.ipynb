{
 "cells": [
  {
   "cell_type": "code",
   "execution_count": null,
   "metadata": {},
   "outputs": [],
   "source": [
    "import time\n",
    "import warnings\n",
    "\n",
    "import numpy as np\n",
    "import pandas as pd\n",
    "import seaborn as sns\n",
    "import matplotlib.pyplot as plt\n",
    "\n",
    "from sklearn import cluster, datasets\n",
    "from sklearn.preprocessing import StandardScaler\n",
    "from sklearn import tree\n",
    "from matplotlib import pyplot as plt\n",
    "plt.rcParams['figure.figsize'] = [16, 9]\n",
    "plt.rcParams['figure.dpi'] = 300\n",
    "\n",
    "# Libraries for Classification models\n",
    "from sklearn.tree import DecisionTreeClassifier"
   ]
  },
  {
   "cell_type": "code",
   "execution_count": null,
   "metadata": {},
   "outputs": [],
   "source": [
    "n_samples = 600\n",
    "random_state = 170\n",
    "\n",
    "# make 3-class dataset for classification\n",
    "centers = [[17.5, 53.8], [24.5, 57.6], [31.5, 61.1]]\n",
    "X, y = datasets.make_blobs(\n",
    "    n_samples=n_samples, centers=centers, random_state=random_state\n",
    ")\n",
    "transformation = [[0.4, -0.7], [-0.95, 3.4]]\n",
    "X = np.dot(X, transformation)\n",
    "X_new, y = datasets.make_blobs(\n",
    "    n_samples=n_samples, centers=centers, cluster_std=[1.2,3.1,3.2], random_state=random_state)\n",
    "transformation_new = [[-0.5, 0.7], [0.95, -3.4]]\n",
    "X_new = np.dot(X_new, transformation_new)\n",
    "X = np.concatenate((X, X_new), axis=1)\n",
    "X_no_use = np.random.normal(14, 3.5, size=(n_samples, 1))\n",
    "X = np.concatenate((X, X_no_use), axis=1)\n",
    "\n",
    "df = pd.DataFrame(data=X, columns=['x1', 'x2', 'x3', 'x4', 'x5'])\n",
    "df['target'] = y\n",
    "sns.pairplot(df, hue='target', vars=['x1', 'x2', 'x3', 'x4', 'x5'])"
   ]
  },
  {
   "cell_type": "code",
   "execution_count": null,
   "metadata": {},
   "outputs": [],
   "source": [
    "X = StandardScaler().fit_transform(X)"
   ]
  },
  {
   "cell_type": "code",
   "execution_count": null,
   "metadata": {},
   "outputs": [],
   "source": [
    "clf = DecisionTreeClassifier()\n",
    "clf = clf.fit(X, y)\n",
    "tree_depth = clf.get_depth()\n",
    "print(\"Tree depth:\", tree_depth)\n",
    "tree.plot_tree(clf)\n",
    "plt.show()"
   ]
  },
  {
   "cell_type": "code",
   "execution_count": null,
   "metadata": {},
   "outputs": [],
   "source": [
    "from sklearn.manifold import TSNE\n",
    "from numpy import reshape"
   ]
  },
  {
   "cell_type": "code",
   "execution_count": null,
   "metadata": {},
   "outputs": [],
   "source": []
  },
  {
   "cell_type": "code",
   "execution_count": null,
   "metadata": {},
   "outputs": [],
   "source": []
  }
 ],
 "metadata": {
  "kernelspec": {
   "display_name": "Python 3.10.5 ('oblique')",
   "language": "python",
   "name": "python3"
  },
  "language_info": {
   "codemirror_mode": {
    "name": "ipython",
    "version": 3
   },
   "file_extension": ".py",
   "mimetype": "text/x-python",
   "name": "python",
   "nbconvert_exporter": "python",
   "pygments_lexer": "ipython3",
   "version": "3.10.5"
  },
  "orig_nbformat": 4,
  "vscode": {
   "interpreter": {
    "hash": "7c6af389f53f326899cc60065f9d113078240cf131fab5545cef3f594be2d6a9"
   }
  }
 },
 "nbformat": 4,
 "nbformat_minor": 2
}
