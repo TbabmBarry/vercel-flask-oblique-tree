{
 "cells": [
  {
   "cell_type": "code",
   "execution_count": 3,
   "metadata": {},
   "outputs": [],
   "source": [
    "import pandas as pd \n",
    "import numpy as np\n",
    "from sklearn.datasets import load_iris, load_wine\n",
    "from sklearn.preprocessing import StandardScaler"
   ]
  },
  {
   "cell_type": "code",
   "execution_count": 4,
   "metadata": {},
   "outputs": [],
   "source": [
    "def dataPreprocessing():\n",
    "    # Loading dataset\n",
    "    penguins_data = pd.read_csv('penguins.csv')\n",
    "    # Preprocess\n",
    "    penguins_data.dropna(inplace=True)\n",
    "    penguins_data.drop(penguins_data.index[penguins_data['sex'] == '.'].tolist(),inplace=True)\n",
    "    penguins_data['species']=penguins_data['species'].map({'Adelie':0,'Gentoo':1,'Chinstrap':2})\n",
    "    penguins_data.reset_index(inplace=True)\n",
    "    penguins_data.drop('index', axis=1, inplace=True)\n",
    "    df_male = pd.get_dummies(data=penguins_data['sex'], drop_first=True)\n",
    "    penguins_data = pd.concat([penguins_data,df_male], axis=1)\n",
    "    df_island = pd.get_dummies(data=penguins_data['island'])\n",
    "    penguins_data = pd.concat([penguins_data,df_island], axis=1)\n",
    "    pgn = penguins_data.drop(['island','sex'], axis=1)\n",
    "    \n",
    "    X = pgn.drop('species', axis=1)\n",
    "    y = pgn['species']\n",
    "    \n",
    "    return X, y"
   ]
  },
  {
   "cell_type": "code",
   "execution_count": 5,
   "metadata": {},
   "outputs": [],
   "source": [
    "wine = load_wine()\n",
    "iris = load_iris()\n",
    "iris_X, iris_y = pd.DataFrame(data=iris.data, columns=iris.feature_names), pd.DataFrame(data=iris.target, columns=['target'])\n",
    "wine_X, wine_y = pd.DataFrame(data=wine.data, columns=wine.feature_names), pd.DataFrame(data=wine.target, columns=['target'])\n",
    "penguins_X, penguins_y = dataPreprocessing()\n",
    "scaler = StandardScaler()\n",
    "iris_X_scaled = scaler.fit_transform(iris_X)\n",
    "wine_X_scaled = scaler.fit_transform(wine_X)\n",
    "penguins_X_scaled = scaler.fit_transform(penguins_X)"
   ]
  },
  {
   "cell_type": "code",
   "execution_count": 6,
   "metadata": {},
   "outputs": [],
   "source": [
    "pd.DataFrame(wine_X).to_csv('x_wine.csv', index=False)\n",
    "pd.DataFrame(wine_X_scaled).to_csv(\"x_wine_scaled.csv\", index=False)\n",
    "pd.DataFrame(wine_y).to_csv(\"y_wine.csv\", index=False)\n",
    "pd.DataFrame(iris_X).to_csv('x_iris.csv', index=False)\n",
    "pd.DataFrame(iris_X_scaled).to_csv(\"x_iris_scaled.csv\", index=False)\n",
    "pd.DataFrame(iris_y).to_csv(\"y_iris.csv\", index=False)\n",
    "pd.DataFrame(penguins_X).to_csv('x_penguins.csv', index=False)\n",
    "pd.DataFrame(penguins_X_scaled).to_csv(\"x_penguins_scaled.csv\", index=False)\n",
    "pd.DataFrame(penguins_y).to_csv(\"y_penguins.csv\", index=False)"
   ]
  },
  {
   "cell_type": "code",
   "execution_count": null,
   "metadata": {},
   "outputs": [],
   "source": []
  },
  {
   "cell_type": "code",
   "execution_count": null,
   "metadata": {},
   "outputs": [],
   "source": []
  }
 ],
 "metadata": {
  "kernelspec": {
   "display_name": "Python 3.10.5 ('oblique')",
   "language": "python",
   "name": "python3"
  },
  "language_info": {
   "codemirror_mode": {
    "name": "ipython",
    "version": 3
   },
   "file_extension": ".py",
   "mimetype": "text/x-python",
   "name": "python",
   "nbconvert_exporter": "python",
   "pygments_lexer": "ipython3",
   "version": "3.10.5"
  },
  "orig_nbformat": 4,
  "vscode": {
   "interpreter": {
    "hash": "7c6af389f53f326899cc60065f9d113078240cf131fab5545cef3f594be2d6a9"
   }
  }
 },
 "nbformat": 4,
 "nbformat_minor": 2
}
