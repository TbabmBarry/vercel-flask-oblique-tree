{
 "cells": [
  {
   "cell_type": "code",
   "execution_count": null,
   "metadata": {},
   "outputs": [],
   "source": [
    "import pandas as pd \n",
    "import numpy as np\n",
    "from sklearn.datasets import load_iris, load_wine\n",
    "from sklearn.preprocessing import StandardScaler"
   ]
  },
  {
   "cell_type": "code",
   "execution_count": null,
   "metadata": {},
   "outputs": [],
   "source": [
    "def dataPreprocessing():\n",
    "    # Loading dataset\n",
    "    penguins_data = pd.read_csv('penguins.csv')\n",
    "    # Preprocess\n",
    "    penguins_data.dropna(inplace=True)\n",
    "    penguins_data.drop(penguins_data.index[penguins_data['sex'] == '.'].tolist(),inplace=True)\n",
    "    penguins_data['species']=penguins_data['species'].map({'Adelie':0,'Gentoo':1,'Chinstrap':2})\n",
    "    penguins_data.reset_index(inplace=True)\n",
    "    penguins_data.drop('index', axis=1, inplace=True)\n",
    "    df_male = pd.get_dummies(data=penguins_data['sex'], drop_first=True)\n",
    "    penguins_data = pd.concat([penguins_data,df_male], axis=1)\n",
    "    df_island = pd.get_dummies(data=penguins_data['island'])\n",
    "    penguins_data = pd.concat([penguins_data,df_island], axis=1)\n",
    "    pgn = penguins_data.drop(['island','sex'], axis=1)\n",
    "    \n",
    "    X = pgn.drop('species', axis=1)\n",
    "    y = pgn['species']\n",
    "    \n",
    "    return X, y"
   ]
  },
  {
   "cell_type": "code",
   "execution_count": null,
   "metadata": {},
   "outputs": [],
   "source": [
    "def process_feature_names(str):\n",
    "    str = str.replace(\"(\",\"\").replace(\")\", \"\")\n",
    "    return \"_\".join(str.split())"
   ]
  },
  {
   "cell_type": "code",
   "execution_count": null,
   "metadata": {},
   "outputs": [],
   "source": [
    "wine = load_wine()\n",
    "iris = load_iris()\n",
    "iris.feature_names = list(map(process_feature_names, iris.feature_names))\n",
    "iris_X, iris_y = pd.DataFrame(data=iris.data, columns=iris.feature_names), pd.DataFrame(data=iris.target, columns=['target'])\n",
    "wine_X, wine_y = pd.DataFrame(data=wine.data, columns=wine.feature_names), pd.DataFrame(data=wine.target, columns=['target'])\n",
    "penguins_X, penguins_y = dataPreprocessing()\n",
    "penguins_cols = list(map(str.lower, penguins_X.columns.values.tolist()))\n",
    "penguins_X = pd.DataFrame(data=penguins_X.values, columns=penguins_cols)\n",
    "\n",
    "scaler = StandardScaler()\n",
    "iris_X_scaled = scaler.fit_transform(iris_X)\n",
    "wine_X_scaled = scaler.fit_transform(wine_X)\n",
    "penguins_X_scaled = scaler.fit_transform(penguins_X)"
   ]
  },
  {
   "cell_type": "code",
   "execution_count": null,
   "metadata": {},
   "outputs": [],
   "source": [
    "iris_X_scaled = pd.DataFrame(data=iris_X_scaled, columns=iris.feature_names)\n",
    "wine_X_scaled = pd.DataFrame(data=wine_X_scaled, columns=wine.feature_names)\n",
    "penguins_X_scaled = pd.DataFrame(data=penguins_X_scaled, columns=penguins_cols)"
   ]
  },
  {
   "cell_type": "code",
   "execution_count": null,
   "metadata": {},
   "outputs": [],
   "source": [
    "pd.DataFrame(wine_X).to_csv('x_wine.csv', index=False)\n",
    "pd.DataFrame(wine_X_scaled).to_csv(\"x_wine_scaled.csv\", index=False)\n",
    "pd.DataFrame(wine_y).to_csv(\"y_wine.csv\", index=False)\n",
    "pd.DataFrame(iris_X).to_csv('x_iris.csv', index=False)\n",
    "pd.DataFrame(iris_X_scaled).to_csv(\"x_iris_scaled.csv\", index=False)\n",
    "pd.DataFrame(iris_y).to_csv(\"y_iris.csv\", index=False)\n",
    "pd.DataFrame(penguins_X).to_csv('x_penguins.csv', index=False)\n",
    "pd.DataFrame(penguins_X_scaled).to_csv(\"x_penguins_scaled.csv\", index=False)\n",
    "pd.DataFrame(penguins_y).to_csv(\"y_penguins.csv\", index=False)"
   ]
  },
  {
   "cell_type": "code",
   "execution_count": null,
   "metadata": {},
   "outputs": [],
   "source": [
    "from sklearn import cluster, datasets"
   ]
  },
  {
   "cell_type": "code",
   "execution_count": null,
   "metadata": {},
   "outputs": [],
   "source": [
    "n_samples = [156, 277, 421]\n",
    "random_state = 170\n",
    "\n",
    "# make 3-class dataset for classification\n",
    "centers = [[19.5, 53.8], [24.5, 57.6], [31.5, 61.1]]\n",
    "X, y = datasets.make_blobs(\n",
    "    n_samples=n_samples, centers=centers, random_state=random_state\n",
    ")\n",
    "transformation = [[0.4, -0.7], [-0.95, 3.4]]\n",
    "X = np.dot(X, transformation)\n",
    "X_new, y = datasets.make_blobs(\n",
    "    n_samples=n_samples, centers=centers, cluster_std=[2.4,3.6,3.6], random_state=random_state)\n",
    "transformation_new = [[-0.5, 0.7], [0.95, -3.4]]\n",
    "X_new = np.dot(X_new, transformation_new)\n",
    "X = np.concatenate((X, X_new), axis=1)\n",
    "new_transformation = [[0.4, -0.7, -2.8, 0.3], [-0.95, 3.4, 0.5, 0.7], [0.8, 0.7, 0.95, -3.4], [0.4, -2.7, -1.8, 0.5]]\n",
    "X = np.dot(X, new_transformation)\n",
    "X_no_use = np.random.normal(14, 3.5, size=(sum(n_samples), 1))\n",
    "X = np.concatenate((X, X_no_use), axis=1)\n",
    "transformation_age_weight = [\n",
    "    [1,0,0,0,0],\n",
    "    [0,0.8,0,0,0.3],\n",
    "    [0,0,1,0,0],\n",
    "    [0,0,0,1,0],\n",
    "    [0,0.2,0,0,0.9],\n",
    "]\n",
    "X = np.dot(X, transformation_age_weight)"
   ]
  },
  {
   "cell_type": "code",
   "execution_count": null,
   "metadata": {},
   "outputs": [],
   "source": [
    "blob_X = pd.DataFrame(data=X, columns=['temperature', 'weight', 'tail_length', 'altitude', 'age'])\n",
    "blob_X_scaled = StandardScaler().fit_transform(blob_X)\n",
    "blob_X_scaled = pd.DataFrame(data=blob_X_scaled, columns=['temperature', 'weight', 'tail_length', 'altitude', 'age'])\n",
    "blob_y = pd.DataFrame(data=y, columns=['species'])"
   ]
  },
  {
   "cell_type": "code",
   "execution_count": null,
   "metadata": {},
   "outputs": [],
   "source": [
    "pd.DataFrame(blob_X).to_csv('x_blobs.csv', index=False)\n",
    "pd.DataFrame(blob_X_scaled).to_csv(\"x_blobs_scaled.csv\", index=False)\n",
    "pd.DataFrame(blob_y).to_csv(\"y_blobs.csv\", index=False)"
   ]
  }
 ],
 "metadata": {
  "kernelspec": {
   "display_name": "Python 3.10.5 ('oblique')",
   "language": "python",
   "name": "python3"
  },
  "language_info": {
   "codemirror_mode": {
    "name": "ipython",
    "version": 3
   },
   "file_extension": ".py",
   "mimetype": "text/x-python",
   "name": "python",
   "nbconvert_exporter": "python",
   "pygments_lexer": "ipython3",
   "version": "3.10.5"
  },
  "orig_nbformat": 4,
  "vscode": {
   "interpreter": {
    "hash": "7c6af389f53f326899cc60065f9d113078240cf131fab5545cef3f594be2d6a9"
   }
  }
 },
 "nbformat": 4,
 "nbformat_minor": 2
}
